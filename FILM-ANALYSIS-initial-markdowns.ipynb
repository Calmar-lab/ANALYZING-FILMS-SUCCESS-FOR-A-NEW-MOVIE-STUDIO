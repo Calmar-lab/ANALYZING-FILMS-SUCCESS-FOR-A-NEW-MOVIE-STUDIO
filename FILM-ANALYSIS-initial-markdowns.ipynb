{
 "cells": [
  {
   "cell_type": "markdown",
   "metadata": {},
   "source": [
    "# A DATA ANALYSIS OF THE SUCCESS OF FILMS FOR A NEW MOVIE STUDIO"
   ]
  },
  {
   "cell_type": "markdown",
   "metadata": {},
   "source": [
    "## INTRODUCTION"
   ]
  },
  {
   "cell_type": "markdown",
   "metadata": {},
   "source": [
    "## BUSINESS UNDERSTANDING"
   ]
  },
  {
   "cell_type": "markdown",
   "metadata": {},
   "source": [
    "To capitalize on the recent surge in original video content, our company is launching a new movie studio. This project seeks to analyze box office data to study the successes of films, genres, directors, among other key performance factors to help the company make informed decisions on the type of fims to produce. The project's findings will be translated into strategic recommendations, guiding stakeholders to make data-driven decisions and positioning the studio for success."
   ]
  },
  {
   "cell_type": "markdown",
   "metadata": {},
   "source": [
    "## DATA UNDERSTANDING"
   ]
  },
  {
   "cell_type": "markdown",
   "metadata": {},
   "source": [
    "This analysis uses data sourced from [IMDb](https://www.imdb.com/), a database, and [The Movie Database (TMDb)](https://www.themoviedb.org/), a csv file, which provide comprehensive information on movies, including genres, directors, release dates, audience ratings, and box office performance. Key attributes such as genre, runtime, release timing, and financial performance will be assessed to ensure relevance and accuracy in analyzing factors that contribute to box office success. Quality checks will address any missing values or inconsistencies to prepare the data for analysis."
   ]
  },
  {
   "cell_type": "markdown",
   "metadata": {},
   "source": [
    "## DATA PREPARATION"
   ]
  },
  {
   "cell_type": "markdown",
   "metadata": {},
   "source": [
    "In this section, we'll preprocess the film data to ensure it's suitable for analysis. This involves importing the necessary libraries, loading the data,  creating variables, cleaning the data, among other steps. The prepared data will enable reliable analysis, gaining insights into performance factors essential for making data-driven decisions for the new movie studio."
   ]
  },
  {
   "cell_type": "code",
   "execution_count": 1,
   "metadata": {},
   "outputs": [],
   "source": [
    "# Importing libraries \n",
    "import pandas as pd\n",
    "import sqlite3\n",
    "import numpy as np"
   ]
  },
  {
   "cell_type": "code",
   "execution_count": 2,
   "metadata": {},
   "outputs": [],
   "source": [
    "# Load the data to view\n",
    "# Begin with the database\n",
    "# Create a connection\n",
    "conn = sqlite3.connect('im.db')"
   ]
  },
  {
   "cell_type": "code",
   "execution_count": 3,
   "metadata": {},
   "outputs": [
    {
     "data": {
      "text/html": [
       "<div>\n",
       "<style scoped>\n",
       "    .dataframe tbody tr th:only-of-type {\n",
       "        vertical-align: middle;\n",
       "    }\n",
       "\n",
       "    .dataframe tbody tr th {\n",
       "        vertical-align: top;\n",
       "    }\n",
       "\n",
       "    .dataframe thead th {\n",
       "        text-align: right;\n",
       "    }\n",
       "</style>\n",
       "<table border=\"1\" class=\"dataframe\">\n",
       "  <thead>\n",
       "    <tr style=\"text-align: right;\">\n",
       "      <th></th>\n",
       "      <th>type</th>\n",
       "      <th>name</th>\n",
       "      <th>tbl_name</th>\n",
       "      <th>rootpage</th>\n",
       "      <th>sql</th>\n",
       "    </tr>\n",
       "  </thead>\n",
       "  <tbody>\n",
       "    <tr>\n",
       "      <th>0</th>\n",
       "      <td>table</td>\n",
       "      <td>movie_basics</td>\n",
       "      <td>movie_basics</td>\n",
       "      <td>2</td>\n",
       "      <td>CREATE TABLE \"movie_basics\" (\\n\"movie_id\" TEXT...</td>\n",
       "    </tr>\n",
       "    <tr>\n",
       "      <th>1</th>\n",
       "      <td>table</td>\n",
       "      <td>directors</td>\n",
       "      <td>directors</td>\n",
       "      <td>3</td>\n",
       "      <td>CREATE TABLE \"directors\" (\\n\"movie_id\" TEXT,\\n...</td>\n",
       "    </tr>\n",
       "    <tr>\n",
       "      <th>2</th>\n",
       "      <td>table</td>\n",
       "      <td>known_for</td>\n",
       "      <td>known_for</td>\n",
       "      <td>4</td>\n",
       "      <td>CREATE TABLE \"known_for\" (\\n\"person_id\" TEXT,\\...</td>\n",
       "    </tr>\n",
       "    <tr>\n",
       "      <th>3</th>\n",
       "      <td>table</td>\n",
       "      <td>movie_akas</td>\n",
       "      <td>movie_akas</td>\n",
       "      <td>5</td>\n",
       "      <td>CREATE TABLE \"movie_akas\" (\\n\"movie_id\" TEXT,\\...</td>\n",
       "    </tr>\n",
       "    <tr>\n",
       "      <th>4</th>\n",
       "      <td>table</td>\n",
       "      <td>movie_ratings</td>\n",
       "      <td>movie_ratings</td>\n",
       "      <td>6</td>\n",
       "      <td>CREATE TABLE \"movie_ratings\" (\\n\"movie_id\" TEX...</td>\n",
       "    </tr>\n",
       "    <tr>\n",
       "      <th>5</th>\n",
       "      <td>table</td>\n",
       "      <td>persons</td>\n",
       "      <td>persons</td>\n",
       "      <td>7</td>\n",
       "      <td>CREATE TABLE \"persons\" (\\n\"person_id\" TEXT,\\n ...</td>\n",
       "    </tr>\n",
       "    <tr>\n",
       "      <th>6</th>\n",
       "      <td>table</td>\n",
       "      <td>principals</td>\n",
       "      <td>principals</td>\n",
       "      <td>8</td>\n",
       "      <td>CREATE TABLE \"principals\" (\\n\"movie_id\" TEXT,\\...</td>\n",
       "    </tr>\n",
       "    <tr>\n",
       "      <th>7</th>\n",
       "      <td>table</td>\n",
       "      <td>writers</td>\n",
       "      <td>writers</td>\n",
       "      <td>9</td>\n",
       "      <td>CREATE TABLE \"writers\" (\\n\"movie_id\" TEXT,\\n  ...</td>\n",
       "    </tr>\n",
       "  </tbody>\n",
       "</table>\n",
       "</div>"
      ],
      "text/plain": [
       "    type           name       tbl_name  rootpage  \\\n",
       "0  table   movie_basics   movie_basics         2   \n",
       "1  table      directors      directors         3   \n",
       "2  table      known_for      known_for         4   \n",
       "3  table     movie_akas     movie_akas         5   \n",
       "4  table  movie_ratings  movie_ratings         6   \n",
       "5  table        persons        persons         7   \n",
       "6  table     principals     principals         8   \n",
       "7  table        writers        writers         9   \n",
       "\n",
       "                                                 sql  \n",
       "0  CREATE TABLE \"movie_basics\" (\\n\"movie_id\" TEXT...  \n",
       "1  CREATE TABLE \"directors\" (\\n\"movie_id\" TEXT,\\n...  \n",
       "2  CREATE TABLE \"known_for\" (\\n\"person_id\" TEXT,\\...  \n",
       "3  CREATE TABLE \"movie_akas\" (\\n\"movie_id\" TEXT,\\...  \n",
       "4  CREATE TABLE \"movie_ratings\" (\\n\"movie_id\" TEX...  \n",
       "5  CREATE TABLE \"persons\" (\\n\"person_id\" TEXT,\\n ...  \n",
       "6  CREATE TABLE \"principals\" (\\n\"movie_id\" TEXT,\\...  \n",
       "7  CREATE TABLE \"writers\" (\\n\"movie_id\" TEXT,\\n  ...  "
      ]
     },
     "execution_count": 3,
     "metadata": {},
     "output_type": "execute_result"
    }
   ],
   "source": [
    "# View the summary of the database\n",
    "im = pd.read_sql(\"\"\"SELECT * FROM sqlite_master\"\"\", conn)\n",
    "im"
   ]
  },
  {
   "cell_type": "code",
   "execution_count": null,
   "metadata": {},
   "outputs": [],
   "source": []
  },
  {
   "cell_type": "code",
   "execution_count": null,
   "metadata": {},
   "outputs": [],
   "source": []
  },
  {
   "cell_type": "code",
   "execution_count": null,
   "metadata": {},
   "outputs": [],
   "source": []
  },
  {
   "cell_type": "code",
   "execution_count": null,
   "metadata": {},
   "outputs": [],
   "source": []
  },
  {
   "cell_type": "code",
   "execution_count": null,
   "metadata": {},
   "outputs": [],
   "source": []
  },
  {
   "cell_type": "code",
   "execution_count": null,
   "metadata": {},
   "outputs": [],
   "source": []
  },
  {
   "cell_type": "code",
   "execution_count": null,
   "metadata": {},
   "outputs": [],
   "source": []
  },
  {
   "cell_type": "code",
   "execution_count": null,
   "metadata": {},
   "outputs": [],
   "source": []
  },
  {
   "cell_type": "code",
   "execution_count": null,
   "metadata": {},
   "outputs": [],
   "source": []
  },
  {
   "cell_type": "code",
   "execution_count": null,
   "metadata": {},
   "outputs": [],
   "source": []
  },
  {
   "cell_type": "markdown",
   "metadata": {},
   "source": [
    "## DATA ANALYSIS"
   ]
  },
  {
   "cell_type": "markdown",
   "metadata": {},
   "source": [
    "In this segment, we'll begin our analysis of the prepared data to answer the key objectives of this projects. The objectives of this analysis include finding; \n",
    "\n",
    "1. What types of films are doing best in box office?\n",
    "2. What types of films should the company prioritize producing?\n",
    "3. Who are some of the most popular directors/writers that the company might consider collaborating with or hiring?\n",
    "4. What are the preferred film runtimes for audiences?\n",
    "5. Who are some of the most popular actors the company should consider casting to attract a dedicated audience base?\n",
    "6. What is the average production budget the company should expect?\n",
    "7. What is the average returns of films?\n",
    "8. What has been the trend of movie production over the years?\n",
    "9. Linear Regression"
   ]
  },
  {
   "cell_type": "markdown",
   "metadata": {},
   "source": [
    "#### 1. What types of films are doing best in box office?"
   ]
  },
  {
   "cell_type": "code",
   "execution_count": null,
   "metadata": {},
   "outputs": [],
   "source": []
  },
  {
   "cell_type": "code",
   "execution_count": null,
   "metadata": {},
   "outputs": [],
   "source": []
  },
  {
   "cell_type": "markdown",
   "metadata": {},
   "source": [
    "#### 2. What types of films should the company prioritize producing?"
   ]
  },
  {
   "cell_type": "code",
   "execution_count": null,
   "metadata": {},
   "outputs": [],
   "source": []
  },
  {
   "cell_type": "code",
   "execution_count": null,
   "metadata": {},
   "outputs": [],
   "source": []
  },
  {
   "cell_type": "markdown",
   "metadata": {},
   "source": [
    "#### 3. Who are some of the most popular directors/writers that the company might consider collaborating with or hiring?"
   ]
  },
  {
   "cell_type": "code",
   "execution_count": null,
   "metadata": {},
   "outputs": [],
   "source": []
  },
  {
   "cell_type": "code",
   "execution_count": null,
   "metadata": {},
   "outputs": [],
   "source": []
  },
  {
   "cell_type": "markdown",
   "metadata": {},
   "source": [
    "#### 4. What are the preferred film runtimes for audiences?"
   ]
  },
  {
   "cell_type": "code",
   "execution_count": null,
   "metadata": {},
   "outputs": [],
   "source": []
  },
  {
   "cell_type": "code",
   "execution_count": null,
   "metadata": {},
   "outputs": [],
   "source": []
  },
  {
   "cell_type": "markdown",
   "metadata": {},
   "source": [
    "#### 5. Who are some of the most popular actors the company should consider casting to attract a dedicated audience base?"
   ]
  },
  {
   "cell_type": "code",
   "execution_count": null,
   "metadata": {},
   "outputs": [],
   "source": []
  },
  {
   "cell_type": "code",
   "execution_count": null,
   "metadata": {},
   "outputs": [],
   "source": []
  },
  {
   "cell_type": "markdown",
   "metadata": {},
   "source": [
    "#### 6. What is the average production budget the company should expect?"
   ]
  },
  {
   "cell_type": "code",
   "execution_count": null,
   "metadata": {},
   "outputs": [],
   "source": []
  },
  {
   "cell_type": "code",
   "execution_count": null,
   "metadata": {},
   "outputs": [],
   "source": []
  },
  {
   "cell_type": "markdown",
   "metadata": {},
   "source": [
    "#### 7. What is the average returns of films?"
   ]
  },
  {
   "cell_type": "code",
   "execution_count": null,
   "metadata": {},
   "outputs": [],
   "source": []
  },
  {
   "cell_type": "code",
   "execution_count": null,
   "metadata": {},
   "outputs": [],
   "source": []
  },
  {
   "cell_type": "markdown",
   "metadata": {},
   "source": [
    "#### 8. According to data, is this a viable business? (trend of movie production over the years?)"
   ]
  },
  {
   "cell_type": "code",
   "execution_count": null,
   "metadata": {},
   "outputs": [],
   "source": []
  },
  {
   "cell_type": "code",
   "execution_count": null,
   "metadata": {},
   "outputs": [],
   "source": []
  },
  {
   "cell_type": "markdown",
   "metadata": {},
   "source": [
    "#### 9. Linear Regression"
   ]
  },
  {
   "cell_type": "code",
   "execution_count": null,
   "metadata": {},
   "outputs": [],
   "source": []
  },
  {
   "cell_type": "code",
   "execution_count": null,
   "metadata": {},
   "outputs": [],
   "source": []
  },
  {
   "cell_type": "markdown",
   "metadata": {},
   "source": [
    "## VISUALIZATIONS"
   ]
  },
  {
   "cell_type": "markdown",
   "metadata": {},
   "source": [
    "In this segment, we'll present visualizations that summarize our analysis, effectively conveying the insights gained. Through various graphical representations, we'll enhance understanding of the data, address the objectives discussed earlier, and provide actionable recommendations for the company."
   ]
  },
  {
   "cell_type": "markdown",
   "metadata": {},
   "source": [
    "#### 1. Types of films the company should consider producing"
   ]
  },
  {
   "cell_type": "code",
   "execution_count": null,
   "metadata": {},
   "outputs": [],
   "source": []
  },
  {
   "cell_type": "code",
   "execution_count": null,
   "metadata": {},
   "outputs": [],
   "source": []
  },
  {
   "cell_type": "markdown",
   "metadata": {},
   "source": [
    "#### 2. Directors and writers the company should consider collaborating with"
   ]
  },
  {
   "cell_type": "code",
   "execution_count": null,
   "metadata": {},
   "outputs": [],
   "source": []
  },
  {
   "cell_type": "code",
   "execution_count": null,
   "metadata": {},
   "outputs": [],
   "source": []
  },
  {
   "cell_type": "markdown",
   "metadata": {},
   "source": [
    "#### 3. Recommended movie runtimes  "
   ]
  },
  {
   "cell_type": "code",
   "execution_count": null,
   "metadata": {},
   "outputs": [],
   "source": []
  },
  {
   "cell_type": "code",
   "execution_count": null,
   "metadata": {},
   "outputs": [],
   "source": []
  },
  {
   "cell_type": "markdown",
   "metadata": {},
   "source": [
    "#### 4. Actors the company should consider casting"
   ]
  },
  {
   "cell_type": "code",
   "execution_count": null,
   "metadata": {},
   "outputs": [],
   "source": []
  },
  {
   "cell_type": "code",
   "execution_count": null,
   "metadata": {},
   "outputs": [],
   "source": []
  },
  {
   "cell_type": "markdown",
   "metadata": {},
   "source": [
    "#### 5. Recommended production budget"
   ]
  },
  {
   "cell_type": "code",
   "execution_count": null,
   "metadata": {},
   "outputs": [],
   "source": []
  },
  {
   "cell_type": "code",
   "execution_count": null,
   "metadata": {},
   "outputs": [],
   "source": []
  },
  {
   "cell_type": "markdown",
   "metadata": {},
   "source": [
    "#### 6. "
   ]
  },
  {
   "cell_type": "code",
   "execution_count": null,
   "metadata": {},
   "outputs": [],
   "source": []
  },
  {
   "cell_type": "code",
   "execution_count": null,
   "metadata": {},
   "outputs": [],
   "source": []
  },
  {
   "cell_type": "markdown",
   "metadata": {},
   "source": [
    "#### 7. Linear Regression"
   ]
  },
  {
   "cell_type": "code",
   "execution_count": null,
   "metadata": {},
   "outputs": [],
   "source": []
  },
  {
   "cell_type": "code",
   "execution_count": null,
   "metadata": {},
   "outputs": [],
   "source": []
  },
  {
   "cell_type": "markdown",
   "metadata": {},
   "source": [
    "# CONCLUSION"
   ]
  },
  {
   "cell_type": "markdown",
   "metadata": {},
   "source": [
    "This project has provided a comprehensive analysis of box office data sourced from [IMDb](https://www.imdb.com/) and [TMDb](https://www.themoviedb.org/), uncovering success factors in the film industry. By examining genres, runtimes, directors, among other factors, we've derived actionable insights to guide the new movie studio's production strategy. The visualizations effectively communicated these findings, enabling stakeholders to make informed decisions. As the company moves forward, leveraging these insights will be crucial for developing a profitable film portfolio and ensuring a competitive edge in the evolving landscape of original video content."
   ]
  }
 ],
 "metadata": {
  "kernelspec": {
   "display_name": "Python (learn-env)",
   "language": "python",
   "name": "learn-env"
  },
  "language_info": {
   "codemirror_mode": {
    "name": "ipython",
    "version": 3
   },
   "file_extension": ".py",
   "mimetype": "text/x-python",
   "name": "python",
   "nbconvert_exporter": "python",
   "pygments_lexer": "ipython3",
   "version": "3.8.5"
  }
 },
 "nbformat": 4,
 "nbformat_minor": 4
}
